{
 "cells": [
  {
   "cell_type": "markdown",
   "id": "7af584ff",
   "metadata": {},
   "source": [
    "# Projet"
   ]
  },
  {
   "cell_type": "markdown",
   "id": "e00a18d2",
   "metadata": {},
   "source": [
    "## Apercu du projet\n",
    "\n",
    "Vous avez rejoint une nouvelle équipe dans le secteur de la banque de détail, qui connaît actuellement des taux de défaut plus élevés que prévu sur les prêts personnels. Les prêts personnels sont une source de revenus importante pour les banques, mais ils comportent le risque inhérent que les emprunteurs puissent faire défaut. Un défaut de paiement se produit lorsqu'un emprunteur cesse de faire les paiements requis sur une dette."
   ]
  },
  {
   "cell_type": "markdown",
   "id": "b4c3f7f0",
   "metadata": {},
   "source": [
    "## Objectif : \n",
    "\n",
    "L'équipe de risque analyse le portefeuille de prêts existants pour prévoir les défauts potentiels futurs et estimer la perte attendue. L'objectif principal est de construire un modèle prédictif qui estime la probabilité de défaut pour chaque client en fonction de ses caractéristiques. Des prédictions précises permettront à la banque d'allouer suffisamment de capital pour couvrir les pertes potentielles, maintenant ainsi la stabilité financière."
   ]
  },
  {
   "cell_type": "markdown",
   "id": "e2ad1c53",
   "metadata": {},
   "source": [
    "### 1. Exploration du Dataset"
   ]
  },
  {
   "cell_type": "code",
   "execution_count": 22,
   "id": "5e63bfbd",
   "metadata": {},
   "outputs": [],
   "source": [
    "# Import des bibliothèques\n",
    "import pandas as pd\n",
    "import numpy as np\n",
    "import matplotlib.pyplot as plt\n",
    "import seaborn as sns\n",
    "from sklearn.model_selection import train_test_split\n",
    "from sklearn.preprocessing import StandardScaler"
   ]
  },
  {
   "cell_type": "code",
   "execution_count": 23,
   "id": "ad821332",
   "metadata": {},
   "outputs": [],
   "source": [
    "# Chargement du fichier CSV\n",
    "fichier = \"Loan_Data.csv\"\n",
    "df = pd.read_csv(fichier)"
   ]
  },
  {
   "cell_type": "code",
   "execution_count": 24,
   "id": "babab0cf",
   "metadata": {},
   "outputs": [
    {
     "data": {
      "application/vnd.microsoft.datawrangler.viewer.v0+json": {
       "columns": [
        {
         "name": "index",
         "rawType": "int64",
         "type": "integer"
        },
        {
         "name": "customer_id",
         "rawType": "int64",
         "type": "integer"
        },
        {
         "name": "credit_lines_outstanding",
         "rawType": "int64",
         "type": "integer"
        },
        {
         "name": "loan_amt_outstanding",
         "rawType": "float64",
         "type": "float"
        },
        {
         "name": "total_debt_outstanding",
         "rawType": "float64",
         "type": "float"
        },
        {
         "name": "income",
         "rawType": "float64",
         "type": "float"
        },
        {
         "name": "years_employed",
         "rawType": "int64",
         "type": "integer"
        },
        {
         "name": "fico_score",
         "rawType": "int64",
         "type": "integer"
        },
        {
         "name": "default",
         "rawType": "int64",
         "type": "integer"
        }
       ],
       "ref": "e9ff24b8-ce94-4976-a45b-ed8a978cfe56",
       "rows": [
        [
         "0",
         "8153374",
         "0",
         "5221.545193",
         "3915.471226",
         "78039.38546",
         "5",
         "605",
         "0"
        ],
        [
         "1",
         "7442532",
         "5",
         "1958.928726",
         "8228.75252",
         "26648.43525",
         "2",
         "572",
         "1"
        ],
        [
         "2",
         "2256073",
         "0",
         "3363.009259",
         "2027.83085",
         "65866.71246",
         "4",
         "602",
         "0"
        ],
        [
         "3",
         "4885975",
         "0",
         "4766.648001",
         "2501.730397",
         "74356.88347",
         "5",
         "612",
         "0"
        ],
        [
         "4",
         "4700614",
         "1",
         "1345.827718",
         "1768.826187",
         "23448.32631",
         "6",
         "631",
         "0"
        ],
        [
         "5",
         "4661159",
         "0",
         "5376.886873",
         "7189.121298",
         "85529.84591",
         "2",
         "697",
         "0"
        ],
        [
         "6",
         "8291909",
         "1",
         "3634.057471",
         "7085.980095",
         "68691.57707",
         "6",
         "722",
         "0"
        ],
        [
         "7",
         "4616950",
         "4",
         "3302.172238",
         "13067.57021",
         "50352.16821",
         "3",
         "545",
         "1"
        ],
        [
         "8",
         "3395789",
         "0",
         "2938.325123",
         "1918.404472",
         "53497.37754",
         "4",
         "676",
         "0"
        ],
        [
         "9",
         "4045948",
         "0",
         "5396.366774",
         "5298.824524",
         "92349.55399",
         "2",
         "447",
         "0"
        ]
       ],
       "shape": {
        "columns": 8,
        "rows": 10
       }
      },
      "text/html": [
       "<div>\n",
       "<style scoped>\n",
       "    .dataframe tbody tr th:only-of-type {\n",
       "        vertical-align: middle;\n",
       "    }\n",
       "\n",
       "    .dataframe tbody tr th {\n",
       "        vertical-align: top;\n",
       "    }\n",
       "\n",
       "    .dataframe thead th {\n",
       "        text-align: right;\n",
       "    }\n",
       "</style>\n",
       "<table border=\"1\" class=\"dataframe\">\n",
       "  <thead>\n",
       "    <tr style=\"text-align: right;\">\n",
       "      <th></th>\n",
       "      <th>customer_id</th>\n",
       "      <th>credit_lines_outstanding</th>\n",
       "      <th>loan_amt_outstanding</th>\n",
       "      <th>total_debt_outstanding</th>\n",
       "      <th>income</th>\n",
       "      <th>years_employed</th>\n",
       "      <th>fico_score</th>\n",
       "      <th>default</th>\n",
       "    </tr>\n",
       "  </thead>\n",
       "  <tbody>\n",
       "    <tr>\n",
       "      <th>0</th>\n",
       "      <td>8153374</td>\n",
       "      <td>0</td>\n",
       "      <td>5221.545193</td>\n",
       "      <td>3915.471226</td>\n",
       "      <td>78039.38546</td>\n",
       "      <td>5</td>\n",
       "      <td>605</td>\n",
       "      <td>0</td>\n",
       "    </tr>\n",
       "    <tr>\n",
       "      <th>1</th>\n",
       "      <td>7442532</td>\n",
       "      <td>5</td>\n",
       "      <td>1958.928726</td>\n",
       "      <td>8228.752520</td>\n",
       "      <td>26648.43525</td>\n",
       "      <td>2</td>\n",
       "      <td>572</td>\n",
       "      <td>1</td>\n",
       "    </tr>\n",
       "    <tr>\n",
       "      <th>2</th>\n",
       "      <td>2256073</td>\n",
       "      <td>0</td>\n",
       "      <td>3363.009259</td>\n",
       "      <td>2027.830850</td>\n",
       "      <td>65866.71246</td>\n",
       "      <td>4</td>\n",
       "      <td>602</td>\n",
       "      <td>0</td>\n",
       "    </tr>\n",
       "    <tr>\n",
       "      <th>3</th>\n",
       "      <td>4885975</td>\n",
       "      <td>0</td>\n",
       "      <td>4766.648001</td>\n",
       "      <td>2501.730397</td>\n",
       "      <td>74356.88347</td>\n",
       "      <td>5</td>\n",
       "      <td>612</td>\n",
       "      <td>0</td>\n",
       "    </tr>\n",
       "    <tr>\n",
       "      <th>4</th>\n",
       "      <td>4700614</td>\n",
       "      <td>1</td>\n",
       "      <td>1345.827718</td>\n",
       "      <td>1768.826187</td>\n",
       "      <td>23448.32631</td>\n",
       "      <td>6</td>\n",
       "      <td>631</td>\n",
       "      <td>0</td>\n",
       "    </tr>\n",
       "    <tr>\n",
       "      <th>5</th>\n",
       "      <td>4661159</td>\n",
       "      <td>0</td>\n",
       "      <td>5376.886873</td>\n",
       "      <td>7189.121298</td>\n",
       "      <td>85529.84591</td>\n",
       "      <td>2</td>\n",
       "      <td>697</td>\n",
       "      <td>0</td>\n",
       "    </tr>\n",
       "    <tr>\n",
       "      <th>6</th>\n",
       "      <td>8291909</td>\n",
       "      <td>1</td>\n",
       "      <td>3634.057471</td>\n",
       "      <td>7085.980095</td>\n",
       "      <td>68691.57707</td>\n",
       "      <td>6</td>\n",
       "      <td>722</td>\n",
       "      <td>0</td>\n",
       "    </tr>\n",
       "    <tr>\n",
       "      <th>7</th>\n",
       "      <td>4616950</td>\n",
       "      <td>4</td>\n",
       "      <td>3302.172238</td>\n",
       "      <td>13067.570210</td>\n",
       "      <td>50352.16821</td>\n",
       "      <td>3</td>\n",
       "      <td>545</td>\n",
       "      <td>1</td>\n",
       "    </tr>\n",
       "    <tr>\n",
       "      <th>8</th>\n",
       "      <td>3395789</td>\n",
       "      <td>0</td>\n",
       "      <td>2938.325123</td>\n",
       "      <td>1918.404472</td>\n",
       "      <td>53497.37754</td>\n",
       "      <td>4</td>\n",
       "      <td>676</td>\n",
       "      <td>0</td>\n",
       "    </tr>\n",
       "    <tr>\n",
       "      <th>9</th>\n",
       "      <td>4045948</td>\n",
       "      <td>0</td>\n",
       "      <td>5396.366774</td>\n",
       "      <td>5298.824524</td>\n",
       "      <td>92349.55399</td>\n",
       "      <td>2</td>\n",
       "      <td>447</td>\n",
       "      <td>0</td>\n",
       "    </tr>\n",
       "  </tbody>\n",
       "</table>\n",
       "</div>"
      ],
      "text/plain": [
       "   customer_id  credit_lines_outstanding  loan_amt_outstanding  \\\n",
       "0      8153374                         0           5221.545193   \n",
       "1      7442532                         5           1958.928726   \n",
       "2      2256073                         0           3363.009259   \n",
       "3      4885975                         0           4766.648001   \n",
       "4      4700614                         1           1345.827718   \n",
       "5      4661159                         0           5376.886873   \n",
       "6      8291909                         1           3634.057471   \n",
       "7      4616950                         4           3302.172238   \n",
       "8      3395789                         0           2938.325123   \n",
       "9      4045948                         0           5396.366774   \n",
       "\n",
       "   total_debt_outstanding       income  years_employed  fico_score  default  \n",
       "0             3915.471226  78039.38546               5         605        0  \n",
       "1             8228.752520  26648.43525               2         572        1  \n",
       "2             2027.830850  65866.71246               4         602        0  \n",
       "3             2501.730397  74356.88347               5         612        0  \n",
       "4             1768.826187  23448.32631               6         631        0  \n",
       "5             7189.121298  85529.84591               2         697        0  \n",
       "6             7085.980095  68691.57707               6         722        0  \n",
       "7            13067.570210  50352.16821               3         545        1  \n",
       "8             1918.404472  53497.37754               4         676        0  \n",
       "9             5298.824524  92349.55399               2         447        0  "
      ]
     },
     "execution_count": 24,
     "metadata": {},
     "output_type": "execute_result"
    }
   ],
   "source": [
    "\n",
    "df.head(10)"
   ]
  },
  {
   "cell_type": "code",
   "execution_count": 25,
   "id": "bcbf167e",
   "metadata": {},
   "outputs": [
    {
     "name": "stdout",
     "output_type": "stream",
     "text": [
      "customer_id                   int64\n",
      "credit_lines_outstanding      int64\n",
      "loan_amt_outstanding        float64\n",
      "total_debt_outstanding      float64\n",
      "income                      float64\n",
      "years_employed                int64\n",
      "fico_score                    int64\n",
      "default                       int64\n",
      "dtype: object\n"
     ]
    }
   ],
   "source": [
    "\n",
    "print(df.dtypes)"
   ]
  },
  {
   "cell_type": "code",
   "execution_count": 26,
   "id": "c513b6a6",
   "metadata": {},
   "outputs": [
    {
     "name": "stdout",
     "output_type": "stream",
     "text": [
      "\n",
      " Statistiques descriptives :\n"
     ]
    },
    {
     "data": {
      "application/vnd.microsoft.datawrangler.viewer.v0+json": {
       "columns": [
        {
         "name": "index",
         "rawType": "object",
         "type": "string"
        },
        {
         "name": "credit_lines_outstanding",
         "rawType": "float64",
         "type": "float"
        },
        {
         "name": "loan_amt_outstanding",
         "rawType": "float64",
         "type": "float"
        },
        {
         "name": "total_debt_outstanding",
         "rawType": "float64",
         "type": "float"
        },
        {
         "name": "income",
         "rawType": "float64",
         "type": "float"
        },
        {
         "name": "years_employed",
         "rawType": "float64",
         "type": "float"
        },
        {
         "name": "fico_score",
         "rawType": "float64",
         "type": "float"
        },
        {
         "name": "default",
         "rawType": "float64",
         "type": "float"
        }
       ],
       "ref": "69770b16-e84a-417c-a2fc-058ee3a73ec2",
       "rows": [
        [
         "count",
         "10000.0",
         "10000.0",
         "10000.0",
         "10000.0",
         "10000.0",
         "10000.0",
         "10000.0"
        ],
        [
         "mean",
         "1.4612",
         "4159.677034265904",
         "8718.916796726344",
         "70039.90140134419",
         "4.5528",
         "637.5577",
         "0.1851"
        ],
        [
         "std",
         "1.7438459392578196",
         "1421.3990776378926",
         "6627.164761596831",
         "20072.214143165438",
         "1.5668623633767507",
         "60.657906400327455",
         "0.38839808870221126"
        ],
        [
         "min",
         "0.0",
         "46.7839734",
         "31.65273156",
         "1000.0",
         "0.0",
         "408.0",
         "0.0"
        ],
        [
         "25%",
         "0.0",
         "3154.235371",
         "4199.836020000001",
         "56539.8679025",
         "3.0",
         "597.0",
         "0.0"
        ],
        [
         "50%",
         "1.0",
         "4052.3772275",
         "6732.407217",
         "70085.82633000001",
         "5.0",
         "638.0",
         "0.0"
        ],
        [
         "75%",
         "2.0",
         "5052.8981029999995",
         "11272.26374",
         "83429.1661325",
         "6.0",
         "679.0",
         "0.0"
        ],
        [
         "max",
         "5.0",
         "10750.67781",
         "43688.7841",
         "148412.1805",
         "10.0",
         "850.0",
         "1.0"
        ]
       ],
       "shape": {
        "columns": 7,
        "rows": 8
       }
      },
      "text/html": [
       "<div>\n",
       "<style scoped>\n",
       "    .dataframe tbody tr th:only-of-type {\n",
       "        vertical-align: middle;\n",
       "    }\n",
       "\n",
       "    .dataframe tbody tr th {\n",
       "        vertical-align: top;\n",
       "    }\n",
       "\n",
       "    .dataframe thead th {\n",
       "        text-align: right;\n",
       "    }\n",
       "</style>\n",
       "<table border=\"1\" class=\"dataframe\">\n",
       "  <thead>\n",
       "    <tr style=\"text-align: right;\">\n",
       "      <th></th>\n",
       "      <th>credit_lines_outstanding</th>\n",
       "      <th>loan_amt_outstanding</th>\n",
       "      <th>total_debt_outstanding</th>\n",
       "      <th>income</th>\n",
       "      <th>years_employed</th>\n",
       "      <th>fico_score</th>\n",
       "      <th>default</th>\n",
       "    </tr>\n",
       "  </thead>\n",
       "  <tbody>\n",
       "    <tr>\n",
       "      <th>count</th>\n",
       "      <td>10000.000000</td>\n",
       "      <td>10000.000000</td>\n",
       "      <td>10000.000000</td>\n",
       "      <td>10000.000000</td>\n",
       "      <td>10000.000000</td>\n",
       "      <td>10000.000000</td>\n",
       "      <td>10000.000000</td>\n",
       "    </tr>\n",
       "    <tr>\n",
       "      <th>mean</th>\n",
       "      <td>1.461200</td>\n",
       "      <td>4159.677034</td>\n",
       "      <td>8718.916797</td>\n",
       "      <td>70039.901401</td>\n",
       "      <td>4.552800</td>\n",
       "      <td>637.557700</td>\n",
       "      <td>0.185100</td>\n",
       "    </tr>\n",
       "    <tr>\n",
       "      <th>std</th>\n",
       "      <td>1.743846</td>\n",
       "      <td>1421.399078</td>\n",
       "      <td>6627.164762</td>\n",
       "      <td>20072.214143</td>\n",
       "      <td>1.566862</td>\n",
       "      <td>60.657906</td>\n",
       "      <td>0.388398</td>\n",
       "    </tr>\n",
       "    <tr>\n",
       "      <th>min</th>\n",
       "      <td>0.000000</td>\n",
       "      <td>46.783973</td>\n",
       "      <td>31.652732</td>\n",
       "      <td>1000.000000</td>\n",
       "      <td>0.000000</td>\n",
       "      <td>408.000000</td>\n",
       "      <td>0.000000</td>\n",
       "    </tr>\n",
       "    <tr>\n",
       "      <th>25%</th>\n",
       "      <td>0.000000</td>\n",
       "      <td>3154.235371</td>\n",
       "      <td>4199.836020</td>\n",
       "      <td>56539.867903</td>\n",
       "      <td>3.000000</td>\n",
       "      <td>597.000000</td>\n",
       "      <td>0.000000</td>\n",
       "    </tr>\n",
       "    <tr>\n",
       "      <th>50%</th>\n",
       "      <td>1.000000</td>\n",
       "      <td>4052.377228</td>\n",
       "      <td>6732.407217</td>\n",
       "      <td>70085.826330</td>\n",
       "      <td>5.000000</td>\n",
       "      <td>638.000000</td>\n",
       "      <td>0.000000</td>\n",
       "    </tr>\n",
       "    <tr>\n",
       "      <th>75%</th>\n",
       "      <td>2.000000</td>\n",
       "      <td>5052.898103</td>\n",
       "      <td>11272.263740</td>\n",
       "      <td>83429.166133</td>\n",
       "      <td>6.000000</td>\n",
       "      <td>679.000000</td>\n",
       "      <td>0.000000</td>\n",
       "    </tr>\n",
       "    <tr>\n",
       "      <th>max</th>\n",
       "      <td>5.000000</td>\n",
       "      <td>10750.677810</td>\n",
       "      <td>43688.784100</td>\n",
       "      <td>148412.180500</td>\n",
       "      <td>10.000000</td>\n",
       "      <td>850.000000</td>\n",
       "      <td>1.000000</td>\n",
       "    </tr>\n",
       "  </tbody>\n",
       "</table>\n",
       "</div>"
      ],
      "text/plain": [
       "       credit_lines_outstanding  loan_amt_outstanding  total_debt_outstanding  \\\n",
       "count              10000.000000          10000.000000            10000.000000   \n",
       "mean                   1.461200           4159.677034             8718.916797   \n",
       "std                    1.743846           1421.399078             6627.164762   \n",
       "min                    0.000000             46.783973               31.652732   \n",
       "25%                    0.000000           3154.235371             4199.836020   \n",
       "50%                    1.000000           4052.377228             6732.407217   \n",
       "75%                    2.000000           5052.898103            11272.263740   \n",
       "max                    5.000000          10750.677810            43688.784100   \n",
       "\n",
       "              income  years_employed    fico_score       default  \n",
       "count   10000.000000    10000.000000  10000.000000  10000.000000  \n",
       "mean    70039.901401        4.552800    637.557700      0.185100  \n",
       "std     20072.214143        1.566862     60.657906      0.388398  \n",
       "min      1000.000000        0.000000    408.000000      0.000000  \n",
       "25%     56539.867903        3.000000    597.000000      0.000000  \n",
       "50%     70085.826330        5.000000    638.000000      0.000000  \n",
       "75%     83429.166133        6.000000    679.000000      0.000000  \n",
       "max    148412.180500       10.000000    850.000000      1.000000  "
      ]
     },
     "execution_count": 26,
     "metadata": {},
     "output_type": "execute_result"
    }
   ],
   "source": [
    "# Statistiques descriptives (sans 'customer_id')\n",
    "\n",
    "print(\"\\n Statistiques descriptives :\")\n",
    "df.describe().drop(columns=['customer_id'])"
   ]
  },
  {
   "cell_type": "code",
   "execution_count": 27,
   "id": "c47cbde1",
   "metadata": {},
   "outputs": [
    {
     "name": "stdout",
     "output_type": "stream",
     "text": [
      "\n",
      " Valeurs manquantes :\n",
      "customer_id                 0\n",
      "credit_lines_outstanding    0\n",
      "loan_amt_outstanding        0\n",
      "total_debt_outstanding      0\n",
      "income                      0\n",
      "years_employed              0\n",
      "fico_score                  0\n",
      "default                     0\n",
      "dtype: int64\n"
     ]
    }
   ],
   "source": [
    "# Analyse des valeurs manquantes\n",
    "print(\"\\n Valeurs manquantes :\")\n",
    "print(df.isnull().sum())"
   ]
  },
  {
   "cell_type": "code",
   "execution_count": 28,
   "id": "9617f555",
   "metadata": {},
   "outputs": [
    {
     "name": "stdout",
     "output_type": "stream",
     "text": [
      " Aucun doublon détecté dans le dataset.\n"
     ]
    }
   ],
   "source": [
    "# Vérifier s'il y a des doublons dans le DataFrame\n",
    "nb_doublons = df.duplicated().sum()\n",
    "\n",
    "if nb_doublons > 0:\n",
    "    print(f\"Il y a {nb_doublons} lignes dupliquées dans le dataset.\")\n",
    "else:\n",
    "    print(\" Aucun doublon détecté dans le dataset.\")"
   ]
  },
  {
   "cell_type": "markdown",
   "id": "f606dd92",
   "metadata": {},
   "source": [
    "### 2. Pré-traitement"
   ]
  },
  {
   "cell_type": "code",
   "execution_count": 29,
   "id": "4f1afaac",
   "metadata": {},
   "outputs": [
    {
     "name": "stdout",
     "output_type": "stream",
     "text": [
      "📊 X_train: (8000, 7), X_test: (2000, 7)\n",
      "Normalisation effectuée (StandardScaler appliqué sur X_train et X_test)\n"
     ]
    }
   ],
   "source": [
    "# Définition de la variable cible\n",
    "target = \"default\"  # 🔁 adapte ici si ta colonne s'appelle autrement (ex: \"loan_status\")\n",
    "X = df.drop(columns=[target])\n",
    "y = df[target]\n",
    "\n",
    "# Split Train/Test\n",
    "X_train, X_test, y_train, y_test = train_test_split(\n",
    "    X, y, test_size=0.2, random_state=42, stratify=y\n",
    ")\n",
    "\n",
    "print(f\"📊 X_train: {X_train.shape}, X_test: {X_test.shape}\")\n",
    "\n",
    "# Normalisation (StandardScaler)\n",
    "# On standardise pour centrer-réduire les features : (x - mean)/std\n",
    "scaler = StandardScaler()\n",
    "X_train_scaled = scaler.fit_transform(X_train)\n",
    "X_test_scaled = scaler.transform(X_test)\n",
    "\n",
    "print(\"Normalisation effectuée (StandardScaler appliqué sur X_train et X_test)\")"
   ]
  },
  {
   "cell_type": "markdown",
   "id": "bdfb69cb",
   "metadata": {},
   "source": [
    "### 3. Test de 3 modèles de ML avec MLFLOW"
   ]
  },
  {
   "cell_type": "code",
   "execution_count": 30,
   "id": "8cdbc588",
   "metadata": {},
   "outputs": [],
   "source": [
    "import mlflow \n",
    "\n",
    "from mlflow import MlflowClient\n",
    "from pprint import pprint\n",
    "from sklearn.ensemble import RandomForestRegressor"
   ]
  },
  {
   "cell_type": "code",
   "execution_count": null,
   "id": "03a2e54f",
   "metadata": {},
   "outputs": [],
   "source": [
    "# Connexion au tracking\n",
    "client = MlflowClient(tracking_uri=\"http://127.0.0.1:8080\")"
   ]
  },
  {
   "cell_type": "markdown",
   "id": "171c40c1",
   "metadata": {},
   "source": [
    "### Logging our runs with MLflow"
   ]
  },
  {
   "cell_type": "markdown",
   "id": "97dd77aa",
   "metadata": {},
   "source": [
    "#### *ML 1 : Decision Tree Experiment*"
   ]
  },
  {
   "cell_type": "code",
   "execution_count": 34,
   "id": "2a38c342",
   "metadata": {},
   "outputs": [],
   "source": [
    "import mlflow\n",
    "import mlflow.sklearn\n",
    "from sklearn.tree import DecisionTreeClassifier\n",
    "from sklearn.metrics import (\n",
    "    accuracy_score,\n",
    "    f1_score,\n",
    "    precision_score,\n",
    "    recall_score,\n",
    "    roc_auc_score,\n",
    "    confusion_matrix,\n",
    ")\n",
    "import numpy as np\n",
    "import joblib"
   ]
  },
  {
   "cell_type": "code",
   "execution_count": 38,
   "id": "1967065a",
   "metadata": {},
   "outputs": [],
   "source": [
    "experiment_description_dt = (\n",
    "    \"Modèle Decision Tree pour la prédiction de défaut de prêt. \"\n",
    "    \"Cet experiment contient les runs liés au modèle Decision Tree.\"\n",
    ")\n",
    "\n",
    "experiment_tags_dt = {\n",
    "    \"project_name\": \"loan-default-prediction\",\n",
    "    \"model_type\": \"DecisionTree\",\n",
    "    \"team\": \"mlops-bank\",\n",
    "    \"project_quarter\": \"Q4-2025\",\n",
    "    \"mlflow.note.content\": experiment_description_dt,\n",
    "}\n",
    "\n",
    "experiment_ML_decision_tree = client.create_experiment(\n",
    "    name=\"DecisionTree_Experiment_ML1\",\n",
    "    tags=experiment_tags_dt,\n",
    ")"
   ]
  },
  {
   "cell_type": "code",
   "execution_count": 40,
   "id": "0e429d06",
   "metadata": {},
   "outputs": [
    {
     "name": "stderr",
     "output_type": "stream",
     "text": [
      "/Users/nanda/opt/anaconda3/envs/projet_mlops/lib/python3.11/site-packages/mlflow/types/utils.py:452: UserWarning: Hint: Inferred schema contains integer column(s). Integer columns in Python cannot represent missing values. If your input data contains missing values at inference time, it will be encoded as floats and will cause a schema enforcement error. The best way to avoid this problem is to infer the model schema based on a realistic data sample (training dataset) that includes missing values. Alternatively, you can declare integer columns as doubles (float64) whenever these columns may have missing values. See `Handling Integers With Missing Values <https://www.mlflow.org/docs/latest/models.html#handling-integers-with-missing-values>`_ for more details.\n",
      "  warnings.warn(\n",
      "2025/10/18 02:53:02 WARNING mlflow.models.model: `artifact_path` is deprecated. Please use `name` instead.\n"
     ]
    },
    {
     "name": "stdout",
     "output_type": "stream",
     "text": [
      "✅ Best params: {'ccp_alpha': np.float64(0.004653836741748835), 'class_weight': 'balanced', 'criterion': 'entropy', 'max_depth': 5, 'max_features': None, 'min_samples_leaf': 1, 'min_samples_split': 2, 'random_state': 42}\n",
      "📊 Test metrics: {'accuracy': 0.994, 'precision': 0.9735, 'recall': 0.9946, 'f1_score': 0.984, 'roc_auc': 0.9996, 'cv_best_score_roc_auc': np.float64(0.9992)}\n",
      "🏃 View run DecisionTree_CV_Prune_20251018_025041 at: http://127.0.0.1:8080/#/experiments/1/runs/f6b808793b1642c1b34c13dc2885589f\n",
      "🧪 View experiment at: http://127.0.0.1:8080/#/experiments/1\n"
     ]
    }
   ],
   "source": [
    "import os, numpy as np, matplotlib.pyplot as plt, joblib\n",
    "from datetime import datetime\n",
    "\n",
    "import mlflow\n",
    "from mlflow.models.signature import infer_signature\n",
    "from mlflow.tracking import MlflowClient\n",
    "\n",
    "from sklearn.tree import DecisionTreeClassifier\n",
    "from sklearn.model_selection import GridSearchCV, StratifiedKFold\n",
    "from sklearn.metrics import (\n",
    "    accuracy_score, f1_score, precision_score, recall_score,\n",
    "    roc_auc_score, confusion_matrix, RocCurveDisplay\n",
    ")\n",
    "\n",
    "# ==========\n",
    "# 0) Câblage MLflow -> utilise ton experiment déjà créé\n",
    "# ==========\n",
    "EXPERIMENT_NAME = \"DecisionTree_Experiment_ML1\"\n",
    "\n",
    "try:\n",
    "    exp_id = experiment_ML_decision_tree  # tu l'as déjà créé juste avant\n",
    "except NameError:\n",
    "    # si la variable n'existe pas (par ex. redémarrage kernel), on récupère l'ID par le nom\n",
    "    client = MlflowClient()  # si déjà défini, tu peux commenter cette ligne\n",
    "    exp = client.get_experiment_by_name(EXPERIMENT_NAME)\n",
    "    if exp is None:\n",
    "        # sécurité: si elle n'existe pas (ex. nettoyage), on la crée avec tags minimaux\n",
    "        exp_id = client.create_experiment(\n",
    "            name=EXPERIMENT_NAME,\n",
    "            tags={\n",
    "                \"project_name\": \"loan-default-prediction\",\n",
    "                \"model_type\": \"DecisionTree\",\n",
    "                \"team\": \"mlops-bank\",\n",
    "                \"project_quarter\": \"Q4-2025\",\n",
    "                \"mlflow.note.content\": \"Expérience recréée automatiquement.\"\n",
    "            },\n",
    "        )\n",
    "    else:\n",
    "        exp_id = exp.experiment_id\n",
    "\n",
    "# ==========\n",
    "# 1) Données\n",
    "# ==========\n",
    "# Les arbres n'ont pas besoin de scaling ; on préfère X_train/X_test \"bruts\" si disponibles\n",
    "Xtr = X_train if \"X_train\" in globals() else X_train_scaled\n",
    "Xte = X_test  if \"X_test\"  in globals() else X_test_scaled\n",
    "\n",
    "# ==========\n",
    "# 2) Grille de pruning via cost_complexity_pruning_path\n",
    "# ==========\n",
    "tmp_tree = DecisionTreeClassifier(random_state=42)\n",
    "path = tmp_tree.cost_complexity_pruning_path(Xtr, y_train)\n",
    "candidate_alphas = path.ccp_alphas\n",
    "\n",
    "if len(candidate_alphas) > 12:\n",
    "    qs = np.linspace(0.05, 0.95, 10)  # 10 valeurs réparties\n",
    "    ccp_grid = np.unique(np.quantile(candidate_alphas[:-1], qs))\n",
    "else:\n",
    "    ccp_grid = np.unique(candidate_alphas[:-1])\n",
    "\n",
    "if ccp_grid.size == 0:\n",
    "    ccp_grid = np.array([0.0, 1e-4, 1e-3, 1e-2])\n",
    "\n",
    "# ==========\n",
    "# 3) GridSearch + CV\n",
    "# ==========\n",
    "cv = StratifiedKFold(n_splits=5, shuffle=True, random_state=42)\n",
    "\n",
    "param_grid = {\n",
    "    \"criterion\": [\"gini\", \"entropy\", \"log_loss\"],\n",
    "    \"max_depth\": [3, 5, 7, 9, None],\n",
    "    \"min_samples_split\": [2, 5, 10],\n",
    "    \"min_samples_leaf\": [1, 2, 4],\n",
    "    \"max_features\": [None, \"sqrt\", \"log2\"],\n",
    "    \"class_weight\": [None, \"balanced\"],\n",
    "    \"ccp_alpha\": list(ccp_grid),\n",
    "    \"random_state\": [42],\n",
    "}\n",
    "\n",
    "scoring = {\n",
    "    \"roc_auc\": \"roc_auc\",\n",
    "    \"f1\": \"f1\",\n",
    "    \"precision\": \"precision\",\n",
    "    \"recall\": \"recall\",\n",
    "    \"accuracy\": \"accuracy\",\n",
    "}\n",
    "\n",
    "grid = GridSearchCV(\n",
    "    DecisionTreeClassifier(),\n",
    "    param_grid=param_grid,\n",
    "    scoring=scoring,\n",
    "    refit=\"roc_auc\",\n",
    "    cv=cv,\n",
    "    n_jobs=-1,\n",
    "    verbose=0,\n",
    ")\n",
    "\n",
    "# ==========\n",
    "# 4) Run MLflow → rattaché à ton experiment (via experiment_id)\n",
    "# ==========\n",
    "run_name = f\"DecisionTree_CV_Prune_{datetime.now().strftime('%Y%m%d_%H%M%S')}\"\n",
    "\n",
    "with mlflow.start_run(experiment_id=exp_id, run_name=run_name) as run:\n",
    "    # Tags run (complémentaires aux tags d'expérience)\n",
    "    mlflow.set_tags({\n",
    "        \"stage\": \"dev\",\n",
    "        \"dataset\": \"Loan_Data.csv\",\n",
    "        \"features_scaled\": str(\"X_train\" not in globals()),  # True si on a utilisé *_scaled\n",
    "        \"cv_folds\": 5,\n",
    "        \"selector\": \"GridSearchCV(refit=roc_auc)\",\n",
    "    })\n",
    "\n",
    "    # Fit + sélection\n",
    "    grid.fit(Xtr, y_train)\n",
    "    best_dt = grid.best_estimator_\n",
    "    best_params = grid.best_params_\n",
    "\n",
    "    # Évaluation test\n",
    "    y_pred = best_dt.predict(Xte)\n",
    "    if hasattr(best_dt, \"predict_proba\"):\n",
    "        y_proba = best_dt.predict_proba(Xte)[:, 1]\n",
    "        auc = roc_auc_score(y_test, y_proba)\n",
    "    else:\n",
    "        y_proba = None\n",
    "        auc = float(\"nan\")\n",
    "\n",
    "    acc = accuracy_score(y_test, y_pred)\n",
    "    f1  = f1_score(y_test, y_pred)\n",
    "    pre = precision_score(y_test, y_pred)\n",
    "    rec = recall_score(y_test, y_pred)\n",
    "\n",
    "    metrics = {\n",
    "        \"accuracy\": acc,\n",
    "        \"precision\": pre,\n",
    "        \"recall\": rec,\n",
    "        \"f1_score\": f1,\n",
    "        \"roc_auc\": auc,\n",
    "        \"cv_best_score_roc_auc\": grid.best_score_,\n",
    "    }\n",
    "\n",
    "    # Log MLflow\n",
    "    mlflow.log_params(best_params)\n",
    "    mlflow.log_metrics(metrics)\n",
    "\n",
    "    # Matrice de confusion\n",
    "    cm = confusion_matrix(y_test, y_pred)\n",
    "    fig, ax = plt.subplots(figsize=(4,4))\n",
    "    im = ax.imshow(cm, interpolation=\"nearest\")\n",
    "    ax.set_title(\"Confusion matrix (test)\")\n",
    "    ax.set_xlabel(\"Predicted\"); ax.set_ylabel(\"True\")\n",
    "    for (i, j), v in np.ndenumerate(cm):\n",
    "        ax.text(j, i, str(v), ha=\"center\", va=\"center\")\n",
    "    plt.tight_layout()\n",
    "    cm_path = \"confusion_matrix_dt.png\"\n",
    "    fig.savefig(cm_path, dpi=150); plt.close(fig)\n",
    "    mlflow.log_artifact(cm_path)\n",
    "\n",
    "    # ROC si proba dispo\n",
    "    if y_proba is not None:\n",
    "        roc_fig, roc_ax = plt.subplots()\n",
    "        RocCurveDisplay.from_predictions(y_test, y_proba, ax=roc_ax)\n",
    "        roc_ax.set_title(\"ROC curve (test)\")\n",
    "        roc_path = \"roc_curve_dt.png\"\n",
    "        roc_fig.savefig(roc_path, dpi=150); plt.close(roc_fig)\n",
    "        mlflow.log_artifact(roc_path)\n",
    "\n",
    "    # Modèle + signature\n",
    "    joblib.dump(best_dt, \"model_decision_tree.pkl\")\n",
    "    mlflow.log_artifact(\"model_decision_tree.pkl\")\n",
    "\n",
    "    signature = infer_signature(Xtr[:50], best_dt.predict(Xtr[:50]))\n",
    "    mlflow.sklearn.log_model(\n",
    "        sk_model=best_dt,\n",
    "        artifact_path=\"model\",\n",
    "        input_example=Xte[:5],\n",
    "        signature=signature\n",
    "    )\n",
    "\n",
    "    print(\"✅ Best params:\", best_params)\n",
    "    print(\"📊 Test metrics:\", {k: (round(v,4) if isinstance(v, float) else v) for k,v in metrics.items()})\n"
   ]
  }
 ],
 "metadata": {
  "kernelspec": {
   "display_name": "projet_mlops",
   "language": "python",
   "name": "python3"
  },
  "language_info": {
   "codemirror_mode": {
    "name": "ipython",
    "version": 3
   },
   "file_extension": ".py",
   "mimetype": "text/x-python",
   "name": "python",
   "nbconvert_exporter": "python",
   "pygments_lexer": "ipython3",
   "version": "3.11.13"
  }
 },
 "nbformat": 4,
 "nbformat_minor": 5
}
