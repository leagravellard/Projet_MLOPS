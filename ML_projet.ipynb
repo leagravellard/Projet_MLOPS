{
 "cells": [
  {
   "cell_type": "markdown",
   "id": "7af584ff",
   "metadata": {},
   "source": [
    "# Projet"
   ]
  },
  {
   "cell_type": "markdown",
   "id": "e00a18d2",
   "metadata": {},
   "source": [
    "## Apercu du projet\n",
    "\n",
    "Vous avez rejoint une nouvelle équipe dans le secteur de la banque de détail, qui connaît actuellement des taux de défaut plus élevés que prévu sur les prêts personnels. Les prêts personnels sont une source de revenus importante pour les banques, mais ils comportent le risque inhérent que les emprunteurs puissent faire défaut. Un défaut de paiement se produit lorsqu'un emprunteur cesse de faire les paiements requis sur une dette."
   ]
  },
  {
   "cell_type": "markdown",
   "id": "b4c3f7f0",
   "metadata": {},
   "source": [
    "## Objectif : \n",
    "\n",
    "L'équipe de risque analyse le portefeuille de prêts existants pour prévoir les défauts potentiels futurs et estimer la perte attendue. L'objectif principal est de construire un modèle prédictif qui estime la probabilité de défaut pour chaque client en fonction de ses caractéristiques. Des prédictions précises permettront à la banque d'allouer suffisamment de capital pour couvrir les pertes potentielles, maintenant ainsi la stabilité financière."
   ]
  },
  {
   "cell_type": "markdown",
   "id": "e2ad1c53",
   "metadata": {},
   "source": [
    "### 1. Exploration du Dataset"
   ]
  },
  {
   "cell_type": "code",
   "execution_count": 87,
   "id": "5e63bfbd",
   "metadata": {},
   "outputs": [],
   "source": [
    "# Import des bibliothèques\n",
    "import pandas as pd\n",
    "import numpy as np\n",
    "import matplotlib.pyplot as plt\n",
    "from sklearn.model_selection import train_test_split\n",
    "from sklearn.preprocessing import StandardScaler\n",
    "import mlflow "
   ]
  },
  {
   "cell_type": "code",
   "execution_count": 88,
   "id": "ad821332",
   "metadata": {},
   "outputs": [],
   "source": [
    "# Chargement du fichier CSV\n",
    "fichier = \"Loan_Data.csv\"\n",
    "df = pd.read_csv(fichier)"
   ]
  },
  {
   "cell_type": "code",
   "execution_count": 68,
   "id": "babab0cf",
   "metadata": {},
   "outputs": [
    {
     "name": "stdout",
     "output_type": "stream",
     "text": [
      "\n",
      " Aperçu des données :\n"
     ]
    },
    {
     "data": {
      "text/html": [
       "<div>\n",
       "<style scoped>\n",
       "    .dataframe tbody tr th:only-of-type {\n",
       "        vertical-align: middle;\n",
       "    }\n",
       "\n",
       "    .dataframe tbody tr th {\n",
       "        vertical-align: top;\n",
       "    }\n",
       "\n",
       "    .dataframe thead th {\n",
       "        text-align: right;\n",
       "    }\n",
       "</style>\n",
       "<table border=\"1\" class=\"dataframe\">\n",
       "  <thead>\n",
       "    <tr style=\"text-align: right;\">\n",
       "      <th></th>\n",
       "      <th>customer_id</th>\n",
       "      <th>credit_lines_outstanding</th>\n",
       "      <th>loan_amt_outstanding</th>\n",
       "      <th>total_debt_outstanding</th>\n",
       "      <th>income</th>\n",
       "      <th>years_employed</th>\n",
       "      <th>fico_score</th>\n",
       "      <th>default</th>\n",
       "    </tr>\n",
       "  </thead>\n",
       "  <tbody>\n",
       "    <tr>\n",
       "      <th>0</th>\n",
       "      <td>8153374</td>\n",
       "      <td>0</td>\n",
       "      <td>5221.545193</td>\n",
       "      <td>3915.471226</td>\n",
       "      <td>78039.38546</td>\n",
       "      <td>5</td>\n",
       "      <td>605</td>\n",
       "      <td>0</td>\n",
       "    </tr>\n",
       "    <tr>\n",
       "      <th>1</th>\n",
       "      <td>7442532</td>\n",
       "      <td>5</td>\n",
       "      <td>1958.928726</td>\n",
       "      <td>8228.752520</td>\n",
       "      <td>26648.43525</td>\n",
       "      <td>2</td>\n",
       "      <td>572</td>\n",
       "      <td>1</td>\n",
       "    </tr>\n",
       "    <tr>\n",
       "      <th>2</th>\n",
       "      <td>2256073</td>\n",
       "      <td>0</td>\n",
       "      <td>3363.009259</td>\n",
       "      <td>2027.830850</td>\n",
       "      <td>65866.71246</td>\n",
       "      <td>4</td>\n",
       "      <td>602</td>\n",
       "      <td>0</td>\n",
       "    </tr>\n",
       "    <tr>\n",
       "      <th>3</th>\n",
       "      <td>4885975</td>\n",
       "      <td>0</td>\n",
       "      <td>4766.648001</td>\n",
       "      <td>2501.730397</td>\n",
       "      <td>74356.88347</td>\n",
       "      <td>5</td>\n",
       "      <td>612</td>\n",
       "      <td>0</td>\n",
       "    </tr>\n",
       "    <tr>\n",
       "      <th>4</th>\n",
       "      <td>4700614</td>\n",
       "      <td>1</td>\n",
       "      <td>1345.827718</td>\n",
       "      <td>1768.826187</td>\n",
       "      <td>23448.32631</td>\n",
       "      <td>6</td>\n",
       "      <td>631</td>\n",
       "      <td>0</td>\n",
       "    </tr>\n",
       "  </tbody>\n",
       "</table>\n",
       "</div>"
      ],
      "text/plain": [
       "   customer_id  credit_lines_outstanding  loan_amt_outstanding  \\\n",
       "0      8153374                         0           5221.545193   \n",
       "1      7442532                         5           1958.928726   \n",
       "2      2256073                         0           3363.009259   \n",
       "3      4885975                         0           4766.648001   \n",
       "4      4700614                         1           1345.827718   \n",
       "\n",
       "   total_debt_outstanding       income  years_employed  fico_score  default  \n",
       "0             3915.471226  78039.38546               5         605        0  \n",
       "1             8228.752520  26648.43525               2         572        1  \n",
       "2             2027.830850  65866.71246               4         602        0  \n",
       "3             2501.730397  74356.88347               5         612        0  \n",
       "4             1768.826187  23448.32631               6         631        0  "
      ]
     },
     "execution_count": 68,
     "metadata": {},
     "output_type": "execute_result"
    }
   ],
   "source": [
    "# Aperçu général\n",
    "print(\"\\n Aperçu des données :\")\n",
    "df.head()"
   ]
  },
  {
   "cell_type": "code",
   "execution_count": 6,
   "id": "bcbf167e",
   "metadata": {},
   "outputs": [
    {
     "name": "stdout",
     "output_type": "stream",
     "text": [
      "\n",
      " Dimensions : (10000, 8)\n",
      "\n",
      " Types de données :\n",
      "customer_id                   int64\n",
      "credit_lines_outstanding      int64\n",
      "loan_amt_outstanding        float64\n",
      "total_debt_outstanding      float64\n",
      "income                      float64\n",
      "years_employed                int64\n",
      "fico_score                    int64\n",
      "default                       int64\n",
      "dtype: object\n"
     ]
    }
   ],
   "source": [
    "print(\"\\n Dimensions :\", df.shape)\n",
    "print(\"\\n Types de données :\")\n",
    "print(df.dtypes)"
   ]
  },
  {
   "cell_type": "code",
   "execution_count": 9,
   "id": "c513b6a6",
   "metadata": {},
   "outputs": [
    {
     "name": "stdout",
     "output_type": "stream",
     "text": [
      "\n",
      " Statistiques descriptives :\n"
     ]
    },
    {
     "data": {
      "text/html": [
       "<div>\n",
       "<style scoped>\n",
       "    .dataframe tbody tr th:only-of-type {\n",
       "        vertical-align: middle;\n",
       "    }\n",
       "\n",
       "    .dataframe tbody tr th {\n",
       "        vertical-align: top;\n",
       "    }\n",
       "\n",
       "    .dataframe thead th {\n",
       "        text-align: right;\n",
       "    }\n",
       "</style>\n",
       "<table border=\"1\" class=\"dataframe\">\n",
       "  <thead>\n",
       "    <tr style=\"text-align: right;\">\n",
       "      <th></th>\n",
       "      <th>credit_lines_outstanding</th>\n",
       "      <th>loan_amt_outstanding</th>\n",
       "      <th>total_debt_outstanding</th>\n",
       "      <th>income</th>\n",
       "      <th>years_employed</th>\n",
       "      <th>fico_score</th>\n",
       "      <th>default</th>\n",
       "    </tr>\n",
       "  </thead>\n",
       "  <tbody>\n",
       "    <tr>\n",
       "      <th>count</th>\n",
       "      <td>10000.000000</td>\n",
       "      <td>10000.000000</td>\n",
       "      <td>10000.000000</td>\n",
       "      <td>10000.000000</td>\n",
       "      <td>10000.000000</td>\n",
       "      <td>10000.000000</td>\n",
       "      <td>10000.000000</td>\n",
       "    </tr>\n",
       "    <tr>\n",
       "      <th>mean</th>\n",
       "      <td>1.461200</td>\n",
       "      <td>4159.677034</td>\n",
       "      <td>8718.916797</td>\n",
       "      <td>70039.901401</td>\n",
       "      <td>4.552800</td>\n",
       "      <td>637.557700</td>\n",
       "      <td>0.185100</td>\n",
       "    </tr>\n",
       "    <tr>\n",
       "      <th>std</th>\n",
       "      <td>1.743846</td>\n",
       "      <td>1421.399078</td>\n",
       "      <td>6627.164762</td>\n",
       "      <td>20072.214143</td>\n",
       "      <td>1.566862</td>\n",
       "      <td>60.657906</td>\n",
       "      <td>0.388398</td>\n",
       "    </tr>\n",
       "    <tr>\n",
       "      <th>min</th>\n",
       "      <td>0.000000</td>\n",
       "      <td>46.783973</td>\n",
       "      <td>31.652732</td>\n",
       "      <td>1000.000000</td>\n",
       "      <td>0.000000</td>\n",
       "      <td>408.000000</td>\n",
       "      <td>0.000000</td>\n",
       "    </tr>\n",
       "    <tr>\n",
       "      <th>25%</th>\n",
       "      <td>0.000000</td>\n",
       "      <td>3154.235371</td>\n",
       "      <td>4199.836020</td>\n",
       "      <td>56539.867903</td>\n",
       "      <td>3.000000</td>\n",
       "      <td>597.000000</td>\n",
       "      <td>0.000000</td>\n",
       "    </tr>\n",
       "    <tr>\n",
       "      <th>50%</th>\n",
       "      <td>1.000000</td>\n",
       "      <td>4052.377228</td>\n",
       "      <td>6732.407217</td>\n",
       "      <td>70085.826330</td>\n",
       "      <td>5.000000</td>\n",
       "      <td>638.000000</td>\n",
       "      <td>0.000000</td>\n",
       "    </tr>\n",
       "    <tr>\n",
       "      <th>75%</th>\n",
       "      <td>2.000000</td>\n",
       "      <td>5052.898103</td>\n",
       "      <td>11272.263740</td>\n",
       "      <td>83429.166133</td>\n",
       "      <td>6.000000</td>\n",
       "      <td>679.000000</td>\n",
       "      <td>0.000000</td>\n",
       "    </tr>\n",
       "    <tr>\n",
       "      <th>max</th>\n",
       "      <td>5.000000</td>\n",
       "      <td>10750.677810</td>\n",
       "      <td>43688.784100</td>\n",
       "      <td>148412.180500</td>\n",
       "      <td>10.000000</td>\n",
       "      <td>850.000000</td>\n",
       "      <td>1.000000</td>\n",
       "    </tr>\n",
       "  </tbody>\n",
       "</table>\n",
       "</div>"
      ],
      "text/plain": [
       "       credit_lines_outstanding  loan_amt_outstanding  total_debt_outstanding  \\\n",
       "count              10000.000000          10000.000000            10000.000000   \n",
       "mean                   1.461200           4159.677034             8718.916797   \n",
       "std                    1.743846           1421.399078             6627.164762   \n",
       "min                    0.000000             46.783973               31.652732   \n",
       "25%                    0.000000           3154.235371             4199.836020   \n",
       "50%                    1.000000           4052.377228             6732.407217   \n",
       "75%                    2.000000           5052.898103            11272.263740   \n",
       "max                    5.000000          10750.677810            43688.784100   \n",
       "\n",
       "              income  years_employed    fico_score       default  \n",
       "count   10000.000000    10000.000000  10000.000000  10000.000000  \n",
       "mean    70039.901401        4.552800    637.557700      0.185100  \n",
       "std     20072.214143        1.566862     60.657906      0.388398  \n",
       "min      1000.000000        0.000000    408.000000      0.000000  \n",
       "25%     56539.867903        3.000000    597.000000      0.000000  \n",
       "50%     70085.826330        5.000000    638.000000      0.000000  \n",
       "75%     83429.166133        6.000000    679.000000      0.000000  \n",
       "max    148412.180500       10.000000    850.000000      1.000000  "
      ]
     },
     "execution_count": 9,
     "metadata": {},
     "output_type": "execute_result"
    }
   ],
   "source": [
    "# Statistiques descriptives (sans 'customer_id')\n",
    "\n",
    "print(\"\\n Statistiques descriptives :\")\n",
    "df.describe().drop(columns=['customer_id'])"
   ]
  },
  {
   "cell_type": "code",
   "execution_count": 10,
   "id": "c47cbde1",
   "metadata": {},
   "outputs": [
    {
     "name": "stdout",
     "output_type": "stream",
     "text": [
      "\n",
      " Valeurs manquantes :\n",
      "customer_id                 0\n",
      "credit_lines_outstanding    0\n",
      "loan_amt_outstanding        0\n",
      "total_debt_outstanding      0\n",
      "income                      0\n",
      "years_employed              0\n",
      "fico_score                  0\n",
      "default                     0\n",
      "dtype: int64\n"
     ]
    }
   ],
   "source": [
    "# Analyse des valeurs manquantes\n",
    "print(\"\\n Valeurs manquantes :\")\n",
    "print(df.isnull().sum())"
   ]
  },
  {
   "cell_type": "code",
   "execution_count": 13,
   "id": "9617f555",
   "metadata": {},
   "outputs": [
    {
     "name": "stdout",
     "output_type": "stream",
     "text": [
      " Aucun doublon détecté dans le dataset.\n"
     ]
    }
   ],
   "source": [
    "# Vérifier s'il y a des doublons dans le DataFrame\n",
    "nb_doublons = df.duplicated().sum()\n",
    "\n",
    "if nb_doublons > 0:\n",
    "    print(f\"Il y a {nb_doublons} lignes dupliquées dans le dataset.\")\n",
    "else:\n",
    "    print(\" Aucun doublon détecté dans le dataset.\")"
   ]
  },
  {
   "cell_type": "markdown",
   "id": "f606dd92",
   "metadata": {},
   "source": [
    "### 2. Pré-traitement"
   ]
  },
  {
   "cell_type": "code",
   "execution_count": 89,
   "id": "4f1afaac",
   "metadata": {},
   "outputs": [
    {
     "name": "stdout",
     "output_type": "stream",
     "text": [
      "📊 X_train: (8000, 6), X_test: (2000, 6)\n",
      "Normalisation effectuée (StandardScaler appliqué sur X_train et X_test)\n"
     ]
    }
   ],
   "source": [
    "# Définition de la variable cible\n",
    "target = \"default\"  # 🔁 adapte ici si ta colonne s'appelle autrement (ex: \"loan_status\")\n",
    "X = df.drop(columns=[target, \"customer_id\"])\n",
    "y = df[target]\n",
    "\n",
    "# Split Train/Test\n",
    "X_train, X_test, y_train, y_test = train_test_split(\n",
    "    X, y, test_size=0.2, random_state=42, stratify=y\n",
    ")\n",
    "\n",
    "print(f\"📊 X_train: {X_train.shape}, X_test: {X_test.shape}\")\n",
    "\n",
    "# Normalisation (StandardScaler)\n",
    "# On standardise pour centrer-réduire les features : (x - mean)/std\n",
    "scaler = StandardScaler()\n",
    "X_train_scaled = scaler.fit_transform(X_train)\n",
    "X_test_scaled = scaler.transform(X_test)\n",
    "\n",
    "print(\"Normalisation effectuée (StandardScaler appliqué sur X_train et X_test)\")"
   ]
  },
  {
   "cell_type": "markdown",
   "id": "a57487fc",
   "metadata": {},
   "source": [
    "### 3. Test de 3 modèles de ML avec MLFLOW"
   ]
  },
  {
   "cell_type": "code",
   "execution_count": null,
   "id": "57965d5c",
   "metadata": {},
   "outputs": [],
   "source": [
    "# starts an MLflow server locally.\n",
    "# mlflow server --host 127.0.0.1 --port 8080"
   ]
  },
  {
   "cell_type": "code",
   "execution_count": 70,
   "id": "1d0c6cd5",
   "metadata": {},
   "outputs": [],
   "source": [
    "import mlflow \n",
    "\n",
    "from mlflow import MlflowClient\n",
    "from pprint import pprint\n",
    "from sklearn.ensemble import RandomForestRegressor"
   ]
  },
  {
   "cell_type": "code",
   "execution_count": 21,
   "id": "cbfaac1f",
   "metadata": {},
   "outputs": [],
   "source": [
    "# In order to connect to the tracking server, we’ll need to use the uri that we assigned the server when we started it.\n",
    "\n",
    "client = MlflowClient(tracking_uri=\"http://127.0.0.1:8080\")"
   ]
  },
  {
   "cell_type": "markdown",
   "id": "367628c7",
   "metadata": {},
   "source": [
    "### Logging our runs with MLflow"
   ]
  },
  {
   "cell_type": "markdown",
   "id": "a542ed28",
   "metadata": {},
   "source": [
    "#### *ML 1 : Decision Tree Experiment*"
   ]
  },
  {
   "cell_type": "code",
   "execution_count": 24,
   "id": "3a82e923",
   "metadata": {},
   "outputs": [],
   "source": [
    "experiment_description_dt = (\n",
    "    \"Modèle Decision Tree pour la prédiction de défaut de prêt. \"\n",
    "    \"Cet experiment contient les runs liés au modèle Decision Tree.\"\n",
    ")\n",
    "\n",
    "experiment_tags_dt = {\n",
    "    \"project_name\": \"loan-default-prediction\",\n",
    "    \"model_type\": \"DecisionTree\",\n",
    "    \"team\": \"mlops-bank\",\n",
    "    \"project_quarter\": \"Q4-2025\",\n",
    "    \"mlflow.note.content\": experiment_description_dt,\n",
    "}\n",
    "\n",
    "experiment_ML_decision_tree = client.create_experiment(\n",
    "    name=\"DecisionTree_Experiment_ML1\",\n",
    "    tags=experiment_tags_dt,\n",
    ")"
   ]
  },
  {
   "cell_type": "code",
   "execution_count": 77,
   "id": "1d74909c",
   "metadata": {},
   "outputs": [],
   "source": [
    "import mlflow\n",
    "import mlflow.sklearn\n",
    "from sklearn.tree import DecisionTreeClassifier\n",
    "from sklearn.metrics import (\n",
    "    accuracy_score,\n",
    "    f1_score,\n",
    "    precision_score,\n",
    "    recall_score,\n",
    "    roc_auc_score,\n",
    "    confusion_matrix,\n",
    ")\n",
    "import numpy as np\n",
    "import joblib"
   ]
  },
  {
   "cell_type": "code",
   "execution_count": 78,
   "id": "61ca7b0e",
   "metadata": {},
   "outputs": [],
   "source": [
    "# This function call sets the global tracking URI for the current session.\n",
    "# It’s a convenient way to configure the tracking server URI without creating a separate client instance.\n",
    "\n",
    "mlflow.set_tracking_uri(\"http://127.0.0.1:8080\")"
   ]
  },
  {
   "cell_type": "code",
   "execution_count": 79,
   "id": "638f82a7",
   "metadata": {},
   "outputs": [],
   "source": [
    "# Sets the current active experiment to the \"Apple_Models\" experiment and\n",
    "# returns the Experiment metadata\n",
    "ml1_experiment = mlflow.set_experiment(\"DecisionTree_Experiment_ML1\")\n",
    "\n",
    "# Define a run name for this iteration of training.\n",
    "# If this is not set, a unique name will be auto-generated for your run.\n",
    "run_name = \"DecisionTree_run\"\n",
    "\n",
    "# Define an artifact path that the model will be saved to.\n",
    "artifact_path = \"rf_DecisionTree\""
   ]
  },
  {
   "cell_type": "code",
   "execution_count": 80,
   "id": "3b8f79ec",
   "metadata": {},
   "outputs": [
    {
     "name": "stdout",
     "output_type": "stream",
     "text": [
      "✅ Modèle Decision Tree enregistré dans MLflow !\n",
      "📊 Métriques :\n",
      "accuracy   : 0.997\n",
      "precision  : 0.992\n",
      "recall     : 0.989\n",
      "f1_score   : 0.991\n",
      "roc_auc    : 0.999\n",
      "🏃 View run DecisionTree_run at: http://127.0.0.1:8080/#/experiments/704114334643502776/runs/12d8369e6d214c61ade2d5444d83f494\n",
      "🧪 View experiment at: http://127.0.0.1:8080/#/experiments/704114334643502776\n"
     ]
    }
   ],
   "source": [
    "# ======================================================\n",
    "# 🌳 Entraînement du modèle Decision Tree\n",
    "# ======================================================\n",
    "params = {\n",
    "    \"criterion\": \"gini\",\n",
    "    \"max_depth\": 5,\n",
    "    \"min_samples_split\": 4,\n",
    "    \"min_samples_leaf\": 2,\n",
    "    \"random_state\": 42,\n",
    "}\n",
    "\n",
    "# Démarrage du run MLflow\n",
    "with mlflow.start_run(run_name=run_name) as run:\n",
    "    # Initialisation et entraînement du modèle\n",
    "    dt = DecisionTreeClassifier(**params)\n",
    "    dt.fit(X_train_scaled, y_train)\n",
    "\n",
    "    # Prédictions sur le test set\n",
    "    y_pred = dt.predict(X_test_scaled)\n",
    "    y_proba = dt.predict_proba(X_test_scaled)[:, 1]\n",
    "\n",
    "    # Calcul des métriques\n",
    "    acc = accuracy_score(y_test, y_pred)\n",
    "    f1 = f1_score(y_test, y_pred)\n",
    "    precision = precision_score(y_test, y_pred)\n",
    "    recall = recall_score(y_test, y_pred)\n",
    "    roc = roc_auc_score(y_test, y_proba)\n",
    "\n",
    "    # On regroupe toutes les métriques dans un dict\n",
    "    metrics = {\n",
    "        \"accuracy\": acc,\n",
    "        \"precision\": precision,\n",
    "        \"recall\": recall,\n",
    "        \"f1_score\": f1,\n",
    "        \"roc_auc\": roc,\n",
    "    }\n",
    "\n",
    "    # ======================================================\n",
    "    # 📊 Logging MLflow\n",
    "    # ======================================================\n",
    "    # Log des hyperparamètres\n",
    "    mlflow.log_params(params)\n",
    "\n",
    "    # Log des métriques\n",
    "    mlflow.log_metrics(metrics)\n",
    "\n",
    "    # 🧠 Sauvegarde manuelle du modèle au format .pkl\n",
    "    joblib.dump(dt, \"model_ML1.pkl\")\n",
    "\n",
    "    # 📂 Envoi du modèle en tant qu’artifact dans MLflow\n",
    "    mlflow.log_artifact(\"model_ML1.pkl\")\n",
    "\n",
    "    # Exemple de jeu de données pour déduire le schéma du modèle\n",
    "    input_example = X_test_scaled[:5]\n",
    "\n",
    "    # Définition de la signature du modèle (schéma des inputs/outputs)\n",
    "    from mlflow.models.signature import infer_signature\n",
    "    signature = infer_signature(X_test_scaled, dt.predict(X_test_scaled))\n",
    "\n",
    "    # Logging complet du modèle avec signature + input example\n",
    "    mlflow.sklearn.log_model(\n",
    "        sk_model=dt,\n",
    "        name=\"rf_DecisionTree\",\n",
    "        input_example=input_example,\n",
    "        signature=signature\n",
    "    )\n",
    "\n",
    "    print(\"✅ Modèle Decision Tree enregistré dans MLflow !\")\n",
    "    print(\"📊 Métriques :\")\n",
    "    for k, v in metrics.items():\n",
    "        print(f\"{k:10s} : {v:.3f}\")"
   ]
  },
  {
   "cell_type": "markdown",
   "id": "0a4bcd60",
   "metadata": {},
   "source": [
    "#### *ML 2 : Logistic Regression Experiment*"
   ]
  },
  {
   "cell_type": "code",
   "execution_count": 45,
   "id": "bd7b2e46",
   "metadata": {},
   "outputs": [],
   "source": [
    "experiment_description_lr = (\n",
    "    \"Modèle de Régression Logistique pour la prédiction de défaut de prêt. \"\n",
    "    \"Cet experiment contient les runs liés au modèle Logistic Regression.\"\n",
    ")\n",
    "\n",
    "experiment_tags_lr = {\n",
    "    \"project_name\": \"loan-default-prediction\",\n",
    "    \"model_type\": \"LogisticRegression\",\n",
    "    \"team\": \"mlops-bank\",\n",
    "    \"project_quarter\": \"Q4-2025\",\n",
    "    \"mlflow.note.content\": experiment_description_lr,\n",
    "}\n",
    "\n",
    "experiment_logistic_regression = client.create_experiment(\n",
    "    name=\"LogisticRegression_Experiment_ml2\",\n",
    "    tags=experiment_tags_lr,\n",
    ")"
   ]
  },
  {
   "cell_type": "code",
   "execution_count": 90,
   "id": "cb25bfab",
   "metadata": {},
   "outputs": [],
   "source": [
    "# This function call sets the global tracking URI for the current session.\n",
    "# It’s a convenient way to configure the tracking server URI without creating a separate client instance.\n",
    "\n",
    "mlflow.set_tracking_uri(\"http://127.0.0.1:8080\")"
   ]
  },
  {
   "cell_type": "code",
   "execution_count": 91,
   "id": "63b95891",
   "metadata": {},
   "outputs": [],
   "source": [
    "# Sets the current active experiment to the \"Apple_Models\" experiment and\n",
    "# returns the Experiment metadata\n",
    "ml2_experiment = mlflow.set_experiment(\"LogisticRegression_Experiment_ml2\")\n",
    "\n",
    "# Define a run name for this iteration of training.\n",
    "# If this is not set, a unique name will be auto-generated for your run.\n",
    "run_name = \"LogisticRegression_run\"\n",
    "\n",
    "# Define an artifact path that the model will be saved to.\n",
    "artifact_path = \"lr_LogisticRegression\""
   ]
  },
  {
   "cell_type": "code",
   "execution_count": 92,
   "id": "cf9d4847",
   "metadata": {},
   "outputs": [
    {
     "name": "stderr",
     "output_type": "stream",
     "text": [
      "2025/10/16 11:55:22 WARNING mlflow.models.model: `artifact_path` is deprecated. Please use `name` instead.\n"
     ]
    },
    {
     "name": "stdout",
     "output_type": "stream",
     "text": [
      "✅ Modèle Régression Logistique enregistré dans MLflow !\n",
      "📊 Métriques :\n",
      "accuracy   : 0.999\n",
      "precision  : 1.000\n",
      "recall     : 0.995\n",
      "f1_score   : 0.997\n",
      "roc_auc    : 1.000\n",
      "🏃 View run LogisticRegression_run at: http://127.0.0.1:8080/#/experiments/809115022134385542/runs/8ff205be06f2411395807f9776117cff\n",
      "🧪 View experiment at: http://127.0.0.1:8080/#/experiments/809115022134385542\n"
     ]
    }
   ],
   "source": [
    "from sklearn.linear_model import LogisticRegression\n",
    "\n",
    "# ======================================================\n",
    "# ⚙️ Paramètres du modèle\n",
    "# ======================================================\n",
    "params = {\n",
    "    \"penalty\": \"l2\",\n",
    "    \"solver\": \"lbfgs\",\n",
    "    \"max_iter\": 1000,\n",
    "    \"random_state\": 42\n",
    "}\n",
    "\n",
    "# ======================================================\n",
    "# 🚀 Entraînement du modèle Logistic Regression\n",
    "# ======================================================\n",
    "with mlflow.start_run(run_name=run_name) as run:\n",
    "    # Initialisation du modèle\n",
    "    lr = LogisticRegression(**params)\n",
    "    lr.fit(X_train_scaled, y_train)\n",
    "\n",
    "    # Prédictions\n",
    "    y_pred = lr.predict(X_test_scaled)\n",
    "    y_proba = lr.predict_proba(X_test_scaled)[:, 1]\n",
    "\n",
    "    # Calcul des métriques\n",
    "    acc = accuracy_score(y_test, y_pred)\n",
    "    f1 = f1_score(y_test, y_pred)\n",
    "    precision = precision_score(y_test, y_pred)\n",
    "    recall = recall_score(y_test, y_pred)\n",
    "    roc = roc_auc_score(y_test, y_proba)\n",
    "\n",
    "    metrics = {\n",
    "        \"accuracy\": acc,\n",
    "        \"precision\": precision,\n",
    "        \"recall\": recall,\n",
    "        \"f1_score\": f1,\n",
    "        \"roc_auc\": roc,\n",
    "    }\n",
    "\n",
    "    # ======================================================\n",
    "    # 📊 Logging MLflow\n",
    "    # ======================================================\n",
    "    mlflow.log_params(params)\n",
    "    mlflow.log_metrics(metrics)\n",
    "\n",
    "    # 🔹 Sauvegarde manuelle du modèle en .pkl\n",
    "    joblib.dump(lr, \"model_ML2.pkl\")\n",
    "    mlflow.log_artifact(\"model_ML2.pkl\")\n",
    "\n",
    "    # 🔹 Enregistrement du modèle MLflow (avec schéma)\n",
    "    input_example = X_test_scaled[:5]\n",
    "    signature = infer_signature(X_test_scaled, lr.predict(X_test_scaled))\n",
    "    mlflow.sklearn.log_model(\n",
    "        sk_model=lr,\n",
    "        artifact_path=artifact_path,\n",
    "        input_example=input_example,\n",
    "        signature=signature\n",
    "    )\n",
    "\n",
    "    print(\"✅ Modèle Régression Logistique enregistré dans MLflow !\")\n",
    "    print(\"📊 Métriques :\")\n",
    "    for k, v in metrics.items():\n",
    "        print(f\"{k:10s} : {v:.3f}\")"
   ]
  },
  {
   "cell_type": "markdown",
   "id": "9ce86b6c",
   "metadata": {},
   "source": [
    "#### *ML 3 : Random Forest Experiment*"
   ]
  },
  {
   "cell_type": "code",
   "execution_count": 55,
   "id": "c3f4fd0a",
   "metadata": {},
   "outputs": [],
   "source": [
    "experiment_description_rf = (\n",
    "    \"Modèle Random Forest pour la prédiction de défaut de prêt. \"\n",
    "    \"Cet experiment contient les runs liés au modèle Random Forest.\"\n",
    ")\n",
    "\n",
    "experiment_tags_rf = {\n",
    "    \"project_name\": \"loan-default-prediction\",\n",
    "    \"model_type\": \"RandomForest\",\n",
    "    \"team\": \"mlops-bank\",\n",
    "    \"project_quarter\": \"Q4-2025\",\n",
    "    \"mlflow.note.content\": experiment_description_rf,\n",
    "}\n",
    "\n",
    "experiment_random_forest = client.create_experiment(\n",
    "    name=\"RandomForest_Experiment_ml3\",\n",
    "    tags=experiment_tags_rf,\n",
    ")"
   ]
  },
  {
   "cell_type": "code",
   "execution_count": 84,
   "id": "6c769622",
   "metadata": {},
   "outputs": [],
   "source": [
    "# This function call sets the global tracking URI for the current session.\n",
    "# It’s a convenient way to configure the tracking server URI without creating a separate client instance.\n",
    "\n",
    "mlflow.set_tracking_uri(\"http://127.0.0.1:8080\")"
   ]
  },
  {
   "cell_type": "code",
   "execution_count": 85,
   "id": "6b53392c",
   "metadata": {},
   "outputs": [],
   "source": [
    "# Sets the current active experiment to the \"Apple_Models\" experiment and\n",
    "# returns the Experiment metadata\n",
    "ml3_experiment = mlflow.set_experiment(\"RandomForest_Experiment_ml3\")\n",
    "\n",
    "# Define a run name for this iteration of training.\n",
    "# If this is not set, a unique name will be auto-generated for your run.\n",
    "run_name = \"RandomForest_run\"\n",
    "\n",
    "# Define an artifact path that the model will be saved to.\n",
    "artifact_path = \"rf_RandomForest\""
   ]
  },
  {
   "cell_type": "code",
   "execution_count": 86,
   "id": "8846c4dc",
   "metadata": {},
   "outputs": [
    {
     "name": "stderr",
     "output_type": "stream",
     "text": [
      "2025/10/16 11:49:39 WARNING mlflow.models.model: `artifact_path` is deprecated. Please use `name` instead.\n"
     ]
    },
    {
     "name": "stdout",
     "output_type": "stream",
     "text": [
      "✅ Modèle Random Forest enregistré dans MLflow !\n",
      "📊 Métriques :\n",
      "accuracy   : 0.996\n",
      "precision  : 0.992\n",
      "recall     : 0.984\n",
      "f1_score   : 0.988\n",
      "roc_auc    : 1.000\n",
      "🏃 View run RandomForest_run at: http://127.0.0.1:8080/#/experiments/617615322798623046/runs/f244859c530045e8b2e6ca2d21deb45c\n",
      "🧪 View experiment at: http://127.0.0.1:8080/#/experiments/617615322798623046\n"
     ]
    }
   ],
   "source": [
    "from sklearn.ensemble import RandomForestClassifier\n",
    "\n",
    "# ======================================================\n",
    "# ⚙️ Paramètres du modèle Random Forest\n",
    "# ======================================================\n",
    "params = {\n",
    "    \"n_estimators\": 100,\n",
    "    \"max_depth\": 8,\n",
    "    \"min_samples_split\": 4,\n",
    "    \"min_samples_leaf\": 2,\n",
    "    \"bootstrap\": True,\n",
    "    \"random_state\": 42\n",
    "}\n",
    "\n",
    "# ======================================================\n",
    "# 🚀 Entraînement du modèle Random Forest\n",
    "# ======================================================\n",
    "with mlflow.start_run(run_name=run_name) as run:\n",
    "    # Initialisation du modèle\n",
    "    rf = RandomForestClassifier(**params)\n",
    "    rf.fit(X_train_scaled, y_train)\n",
    "\n",
    "    # Prédictions\n",
    "    y_pred = rf.predict(X_test_scaled)\n",
    "    y_proba = rf.predict_proba(X_test_scaled)[:, 1]\n",
    "\n",
    "    # Calcul des métriques\n",
    "    acc = accuracy_score(y_test, y_pred)\n",
    "    f1 = f1_score(y_test, y_pred)\n",
    "    precision = precision_score(y_test, y_pred)\n",
    "    recall = recall_score(y_test, y_pred)\n",
    "    roc = roc_auc_score(y_test, y_proba)\n",
    "\n",
    "    metrics = {\n",
    "        \"accuracy\": acc,\n",
    "        \"precision\": precision,\n",
    "        \"recall\": recall,\n",
    "        \"f1_score\": f1,\n",
    "        \"roc_auc\": roc,\n",
    "    }\n",
    "\n",
    "    # ======================================================\n",
    "    # 📊 Logging MLflow\n",
    "    # ======================================================\n",
    "    mlflow.log_params(params)\n",
    "    mlflow.log_metrics(metrics)\n",
    "\n",
    "    # 🔹 Sauvegarde manuelle du modèle en .pkl\n",
    "    joblib.dump(rf, \"model_ML3.pkl\")\n",
    "    mlflow.log_artifact(\"model_ML3.pkl\")\n",
    "\n",
    "    # 🔹 Signature et input_example\n",
    "    input_example = X_test_scaled[:5]\n",
    "    signature = infer_signature(X_test_scaled, rf.predict(X_test_scaled))\n",
    "\n",
    "    # 🔹 Log du modèle complet dans MLflow\n",
    "    mlflow.sklearn.log_model(\n",
    "        sk_model=rf,\n",
    "        artifact_path=artifact_path,\n",
    "        input_example=input_example,\n",
    "        signature=signature\n",
    "    )\n",
    "\n",
    "\n",
    "    print(\"✅ Modèle Random Forest enregistré dans MLflow !\")\n",
    "    print(\"📊 Métriques :\")\n",
    "    for k, v in metrics.items():\n",
    "        print(f\"{k:10s} : {v:.3f}\")"
   ]
  }
 ],
 "metadata": {
  "kernelspec": {
   "display_name": "env_projet",
   "language": "python",
   "name": "python3"
  },
  "language_info": {
   "codemirror_mode": {
    "name": "ipython",
    "version": 3
   },
   "file_extension": ".py",
   "mimetype": "text/x-python",
   "name": "python",
   "nbconvert_exporter": "python",
   "pygments_lexer": "ipython3",
   "version": "3.10.11"
  }
 },
 "nbformat": 4,
 "nbformat_minor": 5
}
